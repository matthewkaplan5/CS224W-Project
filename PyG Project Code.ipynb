{
  "nbformat": 4,
  "nbformat_minor": 0,
  "metadata": {
    "colab": {
      "name": "PyG Project Code.ipynb",
      "provenance": [],
      "collapsed_sections": []
    },
    "kernelspec": {
      "name": "python3",
      "display_name": "Python 3"
    },
    "language_info": {
      "name": "python"
    },
    "accelerator": "GPU"
  },
  "cells": [
    {
      "cell_type": "markdown",
      "metadata": {
        "id": "3S8Ul8menDdf"
      },
      "source": [
        "# CS224W Final Project Code\n",
        "# Project by Matthew Kaplan, Avery Rogers, Guillermo Wenrich\n",
        "\n",
        "Unless stated in inline comments, all code below courtesy of Authors Fabrizio Frasca, Emanuele Rossi, Davide Eynard, Ben Chamberlain, Michael Bronstein, Federico Monti. Adapted to PyTorch Geometric for running in Python Notebook computing environment by Matthew Kaplan, Guillermo Wenrich, and Avery Rogers.\n",
        "\n",
        "Link to Code GitHub: https://github.com/dmlc/dgl/tree/master/examples/pytorch/ogb/sign\n",
        "\n",
        "Link to Model Paper: https://arxiv.org/abs/2004.11198\n",
        "\n",
        "Citation:\n",
        "Frasca, F., Rossi, E., Eynard, D., Chamberlain, B., Bronstein, M., & Monti, F. (2020b). SIGN: Scalable inception graph neural networks. Retrieved from https://arxiv.org/abs/2004.11198"
      ]
    },
    {
      "cell_type": "markdown",
      "source": [
        "**Instructions: Run all of the cells in order to ensure that all functions are loaded before running the final 3 cells. Mounting your Google Drive is optional, but was used by Matthew, Guillermo, and Avery to load the dataset from a Drive folder instead of redownloading everytime.**"
      ],
      "metadata": {
        "id": "NCxe5IkOUcuM"
      }
    },
    {
      "cell_type": "code",
      "metadata": {
        "id": "w8XjVfGyb5MB",
        "colab": {
          "base_uri": "https://localhost:8080/"
        },
        "outputId": "589cf857-b7b8-4aea-dcd7-d8c3f681281e"
      },
      "source": [
        "# Added by Matthew Kaplan, Guillermo Wenrich, Avery Rogers for downloading dataset.\n",
        "from google.colab import drive\n",
        "drive.mount('/content/drive')"
      ],
      "execution_count": null,
      "outputs": [
        {
          "output_type": "stream",
          "name": "stdout",
          "text": [
            "Drive already mounted at /content/drive; to attempt to forcibly remount, call drive.mount(\"/content/drive\", force_remount=True).\n"
          ]
        }
      ]
    },
    {
      "cell_type": "markdown",
      "source": [
        "Colab does not have the PyG libraries and Open Graph Benchmark library installed by default. So, we pip install them first."
      ],
      "metadata": {
        "id": "JGE-Q8CNU0X6"
      }
    },
    {
      "cell_type": "code",
      "metadata": {
        "id": "3HIkeeav0JV7",
        "colab": {
          "base_uri": "https://localhost:8080/"
        },
        "outputId": "dde557cf-aeeb-4fe7-c31b-3fa5fb8f5ee8"
      },
      "source": [
        "# Our code: necessary installs for code.\n",
        "!pip install ogb\n",
        "!pip install -q git+https://github.com/snap-stanford/deepsnap.git\n",
        "\n",
        "!pip install torch-scatter -f https://data.pyg.org/whl/torch-1.10.0+cu111.html\n",
        "!pip install torch-sparse -f https://data.pyg.org/whl/torch-1.10.0+cu111.html\n",
        "!pip install torch-geometric\n",
        "# !pip install -q git+https://github.com/snap-stanford/deepsnap.git\n",
        "# !pip install -U -q PyDrive"
      ],
      "execution_count": null,
      "outputs": [
        {
          "output_type": "stream",
          "name": "stdout",
          "text": [
            "\u001b[33mWARNING: Skipping dgl as it is not installed.\u001b[0m\n",
            "Looking in links: https://data.dgl.ai/wheels/repo.html\n",
            "Requirement already satisfied: dgl-cu111 in /usr/local/lib/python3.7/dist-packages (0.7.2)\n",
            "Requirement already satisfied: requests>=2.19.0 in /usr/local/lib/python3.7/dist-packages (from dgl-cu111) (2.23.0)\n",
            "Requirement already satisfied: networkx>=2.1 in /usr/local/lib/python3.7/dist-packages (from dgl-cu111) (2.6.3)\n",
            "Requirement already satisfied: scipy>=1.1.0 in /usr/local/lib/python3.7/dist-packages (from dgl-cu111) (1.4.1)\n",
            "Requirement already satisfied: numpy>=1.14.0 in /usr/local/lib/python3.7/dist-packages (from dgl-cu111) (1.19.5)\n",
            "Requirement already satisfied: idna<3,>=2.5 in /usr/local/lib/python3.7/dist-packages (from requests>=2.19.0->dgl-cu111) (2.10)\n",
            "Requirement already satisfied: chardet<4,>=3.0.2 in /usr/local/lib/python3.7/dist-packages (from requests>=2.19.0->dgl-cu111) (3.0.4)\n",
            "Requirement already satisfied: certifi>=2017.4.17 in /usr/local/lib/python3.7/dist-packages (from requests>=2.19.0->dgl-cu111) (2021.10.8)\n",
            "Requirement already satisfied: urllib3!=1.25.0,!=1.25.1,<1.26,>=1.21.1 in /usr/local/lib/python3.7/dist-packages (from requests>=2.19.0->dgl-cu111) (1.24.3)\n",
            "Requirement already satisfied: ogb in /usr/local/lib/python3.7/dist-packages (1.3.2)\n",
            "Requirement already satisfied: six>=1.12.0 in /usr/local/lib/python3.7/dist-packages (from ogb) (1.15.0)\n",
            "Requirement already satisfied: urllib3>=1.24.0 in /usr/local/lib/python3.7/dist-packages (from ogb) (1.24.3)\n",
            "Requirement already satisfied: pandas>=0.24.0 in /usr/local/lib/python3.7/dist-packages (from ogb) (1.1.5)\n",
            "Requirement already satisfied: numpy>=1.16.0 in /usr/local/lib/python3.7/dist-packages (from ogb) (1.19.5)\n",
            "Requirement already satisfied: tqdm>=4.29.0 in /usr/local/lib/python3.7/dist-packages (from ogb) (4.62.3)\n",
            "Requirement already satisfied: scikit-learn>=0.20.0 in /usr/local/lib/python3.7/dist-packages (from ogb) (1.0.1)\n",
            "Requirement already satisfied: outdated>=0.2.0 in /usr/local/lib/python3.7/dist-packages (from ogb) (0.2.1)\n",
            "Requirement already satisfied: torch>=1.6.0 in /usr/local/lib/python3.7/dist-packages (from ogb) (1.10.0+cu111)\n",
            "Requirement already satisfied: requests in /usr/local/lib/python3.7/dist-packages (from outdated>=0.2.0->ogb) (2.23.0)\n",
            "Requirement already satisfied: littleutils in /usr/local/lib/python3.7/dist-packages (from outdated>=0.2.0->ogb) (0.2.2)\n",
            "Requirement already satisfied: python-dateutil>=2.7.3 in /usr/local/lib/python3.7/dist-packages (from pandas>=0.24.0->ogb) (2.8.2)\n",
            "Requirement already satisfied: pytz>=2017.2 in /usr/local/lib/python3.7/dist-packages (from pandas>=0.24.0->ogb) (2018.9)\n",
            "Requirement already satisfied: joblib>=0.11 in /usr/local/lib/python3.7/dist-packages (from scikit-learn>=0.20.0->ogb) (1.1.0)\n",
            "Requirement already satisfied: threadpoolctl>=2.0.0 in /usr/local/lib/python3.7/dist-packages (from scikit-learn>=0.20.0->ogb) (3.0.0)\n",
            "Requirement already satisfied: scipy>=1.1.0 in /usr/local/lib/python3.7/dist-packages (from scikit-learn>=0.20.0->ogb) (1.4.1)\n",
            "Requirement already satisfied: typing-extensions in /usr/local/lib/python3.7/dist-packages (from torch>=1.6.0->ogb) (3.10.0.2)\n",
            "Requirement already satisfied: idna<3,>=2.5 in /usr/local/lib/python3.7/dist-packages (from requests->outdated>=0.2.0->ogb) (2.10)\n",
            "Requirement already satisfied: chardet<4,>=3.0.2 in /usr/local/lib/python3.7/dist-packages (from requests->outdated>=0.2.0->ogb) (3.0.4)\n",
            "Requirement already satisfied: certifi>=2017.4.17 in /usr/local/lib/python3.7/dist-packages (from requests->outdated>=0.2.0->ogb) (2021.10.8)\n",
            "Looking in links: https://data.pyg.org/whl/torch-1.10.0+cu111.html\n",
            "Requirement already satisfied: torch-scatter in /usr/local/lib/python3.7/dist-packages (2.0.9)\n",
            "Looking in links: https://data.pyg.org/whl/torch-1.10.0+cu111.html\n",
            "Requirement already satisfied: torch-sparse in /usr/local/lib/python3.7/dist-packages (0.6.12)\n",
            "Requirement already satisfied: scipy in /usr/local/lib/python3.7/dist-packages (from torch-sparse) (1.4.1)\n",
            "Requirement already satisfied: numpy>=1.13.3 in /usr/local/lib/python3.7/dist-packages (from scipy->torch-sparse) (1.19.5)\n",
            "Requirement already satisfied: torch-geometric in /usr/local/lib/python3.7/dist-packages (2.0.2)\n",
            "Requirement already satisfied: networkx in /usr/local/lib/python3.7/dist-packages (from torch-geometric) (2.6.3)\n",
            "Requirement already satisfied: rdflib in /usr/local/lib/python3.7/dist-packages (from torch-geometric) (6.0.2)\n",
            "Requirement already satisfied: scipy in /usr/local/lib/python3.7/dist-packages (from torch-geometric) (1.4.1)\n",
            "Requirement already satisfied: scikit-learn in /usr/local/lib/python3.7/dist-packages (from torch-geometric) (1.0.1)\n",
            "Requirement already satisfied: jinja2 in /usr/local/lib/python3.7/dist-packages (from torch-geometric) (2.11.3)\n",
            "Requirement already satisfied: pyparsing in /usr/local/lib/python3.7/dist-packages (from torch-geometric) (3.0.6)\n",
            "Requirement already satisfied: yacs in /usr/local/lib/python3.7/dist-packages (from torch-geometric) (0.1.8)\n",
            "Requirement already satisfied: googledrivedownloader in /usr/local/lib/python3.7/dist-packages (from torch-geometric) (0.4)\n",
            "Requirement already satisfied: PyYAML in /usr/local/lib/python3.7/dist-packages (from torch-geometric) (3.13)\n",
            "Requirement already satisfied: requests in /usr/local/lib/python3.7/dist-packages (from torch-geometric) (2.23.0)\n",
            "Requirement already satisfied: pandas in /usr/local/lib/python3.7/dist-packages (from torch-geometric) (1.1.5)\n",
            "Requirement already satisfied: numpy in /usr/local/lib/python3.7/dist-packages (from torch-geometric) (1.19.5)\n",
            "Requirement already satisfied: tqdm in /usr/local/lib/python3.7/dist-packages (from torch-geometric) (4.62.3)\n",
            "Requirement already satisfied: MarkupSafe>=0.23 in /usr/local/lib/python3.7/dist-packages (from jinja2->torch-geometric) (2.0.1)\n",
            "Requirement already satisfied: pytz>=2017.2 in /usr/local/lib/python3.7/dist-packages (from pandas->torch-geometric) (2018.9)\n",
            "Requirement already satisfied: python-dateutil>=2.7.3 in /usr/local/lib/python3.7/dist-packages (from pandas->torch-geometric) (2.8.2)\n",
            "Requirement already satisfied: six>=1.5 in /usr/local/lib/python3.7/dist-packages (from python-dateutil>=2.7.3->pandas->torch-geometric) (1.15.0)\n",
            "Requirement already satisfied: setuptools in /usr/local/lib/python3.7/dist-packages (from rdflib->torch-geometric) (57.4.0)\n",
            "Requirement already satisfied: isodate in /usr/local/lib/python3.7/dist-packages (from rdflib->torch-geometric) (0.6.0)\n",
            "Requirement already satisfied: chardet<4,>=3.0.2 in /usr/local/lib/python3.7/dist-packages (from requests->torch-geometric) (3.0.4)\n",
            "Requirement already satisfied: urllib3!=1.25.0,!=1.25.1,<1.26,>=1.21.1 in /usr/local/lib/python3.7/dist-packages (from requests->torch-geometric) (1.24.3)\n",
            "Requirement already satisfied: idna<3,>=2.5 in /usr/local/lib/python3.7/dist-packages (from requests->torch-geometric) (2.10)\n",
            "Requirement already satisfied: certifi>=2017.4.17 in /usr/local/lib/python3.7/dist-packages (from requests->torch-geometric) (2021.10.8)\n",
            "Requirement already satisfied: joblib>=0.11 in /usr/local/lib/python3.7/dist-packages (from scikit-learn->torch-geometric) (1.1.0)\n",
            "Requirement already satisfied: threadpoolctl>=2.0.0 in /usr/local/lib/python3.7/dist-packages (from scikit-learn->torch-geometric) (3.0.0)\n"
          ]
        }
      ]
    },
    {
      "cell_type": "markdown",
      "source": [
        "Now, lets import the necessary libraries to implement the SIGN model using PyTorch and PyG."
      ],
      "metadata": {
        "id": "h6p9wFHUU-sv"
      }
    },
    {
      "cell_type": "code",
      "metadata": {
        "id": "E3_MG48qry4D",
        "colab": {
          "base_uri": "https://localhost:8080/"
        },
        "outputId": "830c1457-415b-43ac-dfda-7f406d2b0e7a"
      },
      "source": [
        "# Imports\n",
        "import torch\n",
        "import numpy as np\n",
        "# Original authors use dgl as opposed to networkx\n",
        "from ogb.nodeproppred import PygNodePropPredDataset, Evaluator\n",
        "import argparse\n",
        "import time\n",
        "import torch.nn as nn\n",
        "import pickle as pkl\n",
        "\n",
        "# Our Code: Imports Necessary for adaptation to PyG\n",
        "import torch_geometric\n",
        "import torch_scatter\n",
        "from torch_geometric.data import DataLoader\n",
        "from torch_sparse import SparseTensor, matmul"
      ],
      "execution_count": null,
      "outputs": [
        {
          "output_type": "stream",
          "name": "stderr",
          "text": [
            "Using backend: pytorch\n"
          ]
        }
      ]
    },
    {
      "cell_type": "markdown",
      "source": [
        "This is the evaluator to measure model performance, as described under the performance evaluator section at this link: https://ogb.stanford.edu/docs/nodeprop/ "
      ],
      "metadata": {
        "id": "cqqB3_wJVHRu"
      }
    },
    {
      "cell_type": "code",
      "metadata": {
        "id": "9gqf5ChYr2iq"
      },
      "source": [
        "# This is the OGB evaluator function provided by the original creators\n",
        "# of the OGB dataset. Function authored by original authors to \n",
        "# use evaluator evaluate accuracy on train, val, test sets.\n",
        "def get_ogb_evaluator(dataset):\n",
        "    \"\"\"\n",
        "    Get evaluator from Open Graph Benchmark based on dataset\n",
        "    \"\"\"\n",
        "    evaluator = Evaluator(name=dataset)\n",
        "    return lambda preds, labels: evaluator.eval({\n",
        "        \"y_true\": labels.view(-1, 1),\n",
        "        \"y_pred\": preds.view(-1, 1),\n",
        "    })[\"acc\"]"
      ],
      "execution_count": null,
      "outputs": []
    },
    {
      "cell_type": "markdown",
      "source": [
        "This function loads the dataset. **Note: when running this yourself, make sure that the lines**\n",
        "\n",
        "*dataset = PygNodePropPredDataset(name=name)*\n",
        "\n",
        "*split_idx = dataset.get_idx_split()*\n",
        "\n",
        "**are uncommented while the two lines below using pkl.load are erased or commented out.**"
      ],
      "metadata": {
        "id": "gfJqyEwIVT92"
      }
    },
    {
      "cell_type": "code",
      "metadata": {
        "id": "QuwVK2VVr22d"
      },
      "source": [
        "# Function to load the ogbn-products. Part of original Python script\n",
        "# but adapted by Matthew, Avery, and Guillermo to only support ogbn-products\n",
        "# dataset.\n",
        "def load_dataset(name, device):\n",
        "    \"\"\"\n",
        "    Load dataset and move graph and features to device\n",
        "    \"\"\"\n",
        "    if name != \"ogbn-products\":\n",
        "        raise RuntimeError(f\"Dataset {name} is not supported. Only supported dataset is ogbn-products.\")\n",
        "\n",
        "    # --------------------------------------------------------------------------------------------------------\n",
        "    \n",
        "    # TODO: UNCOMMENT THESE TWO LINES (THESE ARE THE LINES THAT SHOULD RUN)\n",
        "    dataset = PygNodePropPredDataset(name=name) # Normal code used to load dataset in local environment.\n",
        "    split_idx = dataset.get_idx_split() # Normal code to then extract train, val, test indices in local environment\n",
        "\n",
        "    # --------------------------------------------------------------------------------------------------------\n",
        "\n",
        "    # --------------------------------------------------------------------------------------------------------\n",
        "\n",
        "    # Matthew, Avery, and Guillermo fix: Use a pickle dumped file of the dataset and dictionary\n",
        "    # outlining train, validation, and test indices, load this from our Google Drive folder.\n",
        "    # To reproduce, simply run the two lines of code commented above instead of these 2 lines.\n",
        "\n",
        "    # TODO: COMMENT OUT THESE LINES OF CODE (THESE SHOULD NOT RUN).\n",
        "    # dataset = pkl.load(open('/content/drive/MyDrive/CS224W/CS224W Project/pyg_ogbn_products_dataset.pkl', 'rb'))\n",
        "    # split_idx = pkl.load(open('/content/drive/MyDrive/CS224W/CS224W Project/pyg_ogbn_products_idx.pkl', 'rb'))\n",
        "    \n",
        "    # --------------------------------------------------------------------------------------------------------\n",
        "    \n",
        "    train_nid = split_idx[\"train\"]\n",
        "    val_nid = split_idx[\"valid\"]\n",
        "    test_nid = split_idx[\"test\"]\n",
        "    graph = dataset[0]\n",
        "    # We have code to put as a float and gather dataset statistics in PyG.\n",
        "    graph.x = graph.x.type(torch.float32)\n",
        "    # graph = graph.to(device)\n",
        "    print(graph)\n",
        "    # Cast features to floats.\n",
        "    n_classes = dataset.num_classes\n",
        "    # Flatten labels array.\n",
        "    labels = graph.y.squeeze() #labels = labels.squeeze()\n",
        "    evaluator = get_ogb_evaluator(name)\n",
        "\n",
        "    # Print relevant graph statistics.\n",
        "    print(f\"# Nodes: {graph.num_nodes}\\n\"\n",
        "          f\"# Edges: {graph.num_edges}\\n\"\n",
        "          f\"# Train: {len(train_nid)}\\n\"\n",
        "          f\"# Val: {len(val_nid)}\\n\"\n",
        "          f\"# Test: {len(test_nid)}\\n\"\n",
        "          f\"# Classes: {n_classes}\")\n",
        "\n",
        "    return graph, labels, n_classes, train_nid, val_nid, test_nid, evaluator"
      ],
      "execution_count": null,
      "outputs": []
    },
    {
      "cell_type": "markdown",
      "source": [
        "The FeedForwardNet model is a learnable MLP with PReLU and Dropout nonlinearities. When considering equation (4) from the original paper here (Frasca et al. 2020):\n",
        "\n",
        "![Screen Shot 2021-12-08 at 10.44.11 AM.png](data:image/png;base64,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)\n",
        "\n",
        "This model denotes the learnable parameters $\\Theta_0, \\dots \\Theta_r$, as well as $\\Omega$."
      ],
      "metadata": {
        "id": "k7PYbps3WdAO"
      }
    },
    {
      "cell_type": "code",
      "metadata": {
        "id": "f794ou42soU6"
      },
      "source": [
        "# This is the feed forward net. The architecture is as follows:\n",
        "# For num_layers - 1 it's Linear --> PReLU --> Dropout, then a final linear layer.\n",
        "class FeedForwardNet(nn.Module):\n",
        "    def __init__(self, in_feats, hidden, out_feats, n_layers, dropout):\n",
        "        super(FeedForwardNet, self).__init__()\n",
        "        self.layers = nn.ModuleList()\n",
        "        self.n_layers = n_layers\n",
        "        # 2 cases. If num layers is 1 just 1 linear layer from in --> out.\n",
        "        # Else, you need in --> hidden, then num_layers - 2 hidden --> hidden\n",
        "        # linear transformations, then a final hidden --> out linear layer.\n",
        "        if n_layers == 1:\n",
        "            self.layers.append(nn.Linear(in_feats, out_feats))\n",
        "        else:\n",
        "            self.layers.append(nn.Linear(in_feats, hidden))\n",
        "            for i in range(n_layers - 2):\n",
        "                self.layers.append(nn.Linear(hidden, hidden))\n",
        "            self.layers.append(nn.Linear(hidden, out_feats))\n",
        "        # In case of num layers - 1 we of course need non linearities.\n",
        "        if self.n_layers > 1:\n",
        "            self.prelu = nn.PReLU()\n",
        "            self.dropout = nn.Dropout(dropout)\n",
        "        self.reset_parameters()\n",
        "\n",
        "    def reset_parameters(self):\n",
        "        gain = nn.init.calculate_gain(\"relu\")\n",
        "        for layer in self.layers:\n",
        "            nn.init.xavier_uniform_(layer.weight, gain=gain)\n",
        "            nn.init.zeros_(layer.bias)\n",
        "\n",
        "    def forward(self, x):\n",
        "        for layer_id, layer in enumerate(self.layers):\n",
        "            # Linear\n",
        "            x = layer(x)\n",
        "            # If not final layer add PReLU --> Dropout\n",
        "            if layer_id < self.n_layers - 1:\n",
        "                x = self.dropout(self.prelu(x))\n",
        "        return x"
      ],
      "execution_count": null,
      "outputs": []
    },
    {
      "cell_type": "markdown",
      "source": [
        "Here is the full SIGN model, which describes the following architecture (Frasca et al. 2020):\n",
        "\n",
        "![Screen Shot 2021-12-08 at 10.44.32 AM.png](data:image/png;base64,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)\n",
        "\n",
        "Which takes an array of inputs $[X, A_1X, \\dots, A_rX]$ where $A_iX$ denotes the mean-aggregated embeddings with a receptive field of the ith-hop neighborhood. The model uses PReLU and Dropout Nonlinearities, and the learnable parameters are represented by the FeedForwardNet class above."
      ],
      "metadata": {
        "id": "dfwF9R_gX9OW"
      }
    },
    {
      "cell_type": "code",
      "metadata": {
        "id": "CR3kjWsms6B2"
      },
      "source": [
        "# This is the SIGN Model, which can be seen as a wrapper over the feed forward\n",
        "# net with more features.\n",
        "class SIGN(nn.Module):\n",
        "    def __init__(self, in_feats, hidden, out_feats, num_hops, n_layers,\n",
        "                 dropout, input_drop):\n",
        "        super(SIGN, self).__init__()\n",
        "        self.dropout = nn.Dropout(dropout)\n",
        "        self.prelu = nn.PReLU()\n",
        "        self.inception_ffs = nn.ModuleList()\n",
        "        self.input_drop = nn.Dropout(input_drop)\n",
        "        for hop in range(num_hops):\n",
        "            self.inception_ffs.append(\n",
        "                FeedForwardNet(in_feats, hidden, hidden, n_layers, dropout))\n",
        "        self.project = FeedForwardNet(num_hops * hidden, hidden, out_feats,\n",
        "                                      n_layers, dropout)\n",
        "\n",
        "    def forward(self, feats):\n",
        "        # Each element in feats is the r-hop mean aggregated features.\n",
        "        # Thus, feats holds input dropped mean aggregated features in the \n",
        "        # 1 --> r hop neighborhoods.\n",
        "        feats = [self.input_drop(feat) for feat in feats]\n",
        "        hidden = []\n",
        "        # Now, send the features through the feed forward net (Think of this as\n",
        "        # the Theta_0 --> Theta_r matricies defined in equation (4) of the paper.)\n",
        "        for feat, ff in zip(feats, self.inception_ffs):\n",
        "            hidden.append(ff(feat))\n",
        "        # Now, concatenate the A * X * Theta_1, ..., A * X * Theta_r (torch.cat),\n",
        "        # send them through nonlinearity (prelu and dropout) to get Z as seen\n",
        "        # in equation (4) of the paper. Then, send them through a feed forward\n",
        "        # net, to get Y as seen in equation (4) of the paper.\n",
        "        out = self.project(self.dropout(self.prelu(torch.cat(hidden, dim=-1))))\n",
        "        return out\n",
        "\n",
        "    def reset_parameters(self):\n",
        "        for ff in self.inception_ffs:\n",
        "            ff.reset_parameters()\n",
        "        self.project.reset_parameters()"
      ],
      "execution_count": null,
      "outputs": []
    },
    {
      "cell_type": "code",
      "metadata": {
        "id": "UdLbw036s9mf"
      },
      "source": [
        "# Get the number of parameters in our model.\n",
        "def get_n_params(model):\n",
        "    pp = 0\n",
        "    for p in list(model.parameters()):\n",
        "        nn = 1\n",
        "        for s in list(p.size()):\n",
        "            nn = nn*s\n",
        "        pp += nn\n",
        "    return pp"
      ],
      "execution_count": null,
      "outputs": []
    },
    {
      "cell_type": "markdown",
      "source": [
        "Below is the PyG implementation to obtain the mean aggregated neighbor embeddings. We leverage PyG's SparseTensor library for a memory efficient implementation that stays within Cuda and RAM usage limits on Colab."
      ],
      "metadata": {
        "id": "mRq_XxT1YpY7"
      }
    },
    {
      "cell_type": "code",
      "metadata": {
        "id": "G6cfHo-sZHeL"
      },
      "source": [
        "# Authored by Matthew Kaplan, Guillermo Wenrich, and Avery Rogers\n",
        "# This model performs 1 round of mean aggregation of neighbor embeddings.\n",
        "# Due to memory limitations and the large graph, we leverage PyTorch Geometric's\n",
        "# Sparse Tensor library to perform mean aggregation efficiently.\n",
        "class AggregationLayer(torch_geometric.nn.conv.MessagePassing):\n",
        "    \n",
        "    def __init__(self):  \n",
        "        super(AggregationLayer, self).__init__(aggr='mean')\n",
        "\n",
        "    def forward(self, x, edge_index, size = None):\n",
        "        return self.propagate(edge_index, x=x, size=size)\n",
        "\n",
        "    def message(self, x_j):\n",
        "        return x_j\n",
        "    \n",
        "    def message_and_aggregate(self, edge_index, x):\n",
        "        return matmul(edge_index, x, reduce = self.aggr)"
      ],
      "execution_count": null,
      "outputs": []
    },
    {
      "cell_type": "markdown",
      "source": [
        "Given $X$ represented by the variable $graph$, this function returns an array $res$ containing $[X, A_1X, \\dots, A_rX]$ where $A_iX$ is the mean aggregated neighbor embeddings with a receptive field of the ith hop neighborhood.\n",
        "\n",
        "Here, $r$ is determined by $args.R$ which we set in below cells. We could only max out at $args.R = 2$, else we would exhaust Cuda memory."
      ],
      "metadata": {
        "id": "9XBRp8r3Y6B4"
      }
    },
    {
      "cell_type": "code",
      "metadata": {
        "id": "fx6SHN_itAuO"
      },
      "source": [
        "# Compute the args.R hop mean neighbor aggregated features.\n",
        "# Uses our declared neighbor aggregation class and SparseTensor\n",
        "# features to allow for this computation in Colab environment.\n",
        "def neighbor_average_features(graph, args):\n",
        "    model = AggregationLayer()\n",
        "    graph.x = graph.x.to(device)\n",
        "    adj = SparseTensor(row=graph.edge_index[0], col=graph.edge_index[1]).to(device)\n",
        "    res = [graph.x]\n",
        "    for hop in range(1, args.R + 1):\n",
        "        # Get the most recent mean aggregated embeddings (or default features).\n",
        "        x = res[-1]\n",
        "        # Send it through 1 round of mean aggregation and append to res.\n",
        "        res.append(model(x, adj.t()))\n",
        "    return res"
      ],
      "execution_count": null,
      "outputs": []
    },
    {
      "cell_type": "markdown",
      "source": [
        "The below function calls the necessary functions above to load the data and obtain the neighbor aggregated features."
      ],
      "metadata": {
        "id": "NfoPjFBYZ6k2"
      }
    },
    {
      "cell_type": "code",
      "metadata": {
        "id": "xYqKNju3tDgH"
      },
      "source": [
        "def prepare_data(device, args):\n",
        "    \"\"\"\n",
        "    Load dataset and compute neighbor-averaged node features used by SIGN model\n",
        "    \"\"\"\n",
        "    data = load_dataset(args.dataset, device)\n",
        "    # Undo the tuple returned.\n",
        "    g, labels, n_classes, train_nid, val_nid, test_nid, evaluator = data\n",
        "    # Get the number of in_features.\n",
        "    in_feats = g.x.shape[1]\n",
        "    # Get the neighbor aggregated features.\n",
        "    feats = neighbor_average_features(g, args)\n",
        "    # Send labels and indices to GPU if enabled.\n",
        "    labels = labels.to(device)\n",
        "    train_nid = train_nid.to(device)\n",
        "    val_nid = val_nid.to(device)\n",
        "    test_nid = test_nid.to(device)\n",
        "    return feats, labels, in_feats, n_classes, \\\n",
        "        train_nid, val_nid, test_nid, evaluator\n"
      ],
      "execution_count": null,
      "outputs": []
    },
    {
      "cell_type": "markdown",
      "source": [
        "Classic PyTorch implementation for training and testing the model in batches."
      ],
      "metadata": {
        "id": "W8G3BYltaDUJ"
      }
    },
    {
      "cell_type": "code",
      "metadata": {
        "id": "dfYN5ynOtGNw"
      },
      "source": [
        "# Send batches forward and backwards through model.\n",
        "# Very classic PyTorch train syntax.\n",
        "def train(model, feats, labels, loss_fcn, optimizer, train_loader):\n",
        "    model.train()\n",
        "    device = labels.device\n",
        "    for batch in train_loader:\n",
        "        batch_feats = [x[batch].to(device) for x in feats]\n",
        "        loss = loss_fcn(model(batch_feats), labels[batch])\n",
        "        optimizer.zero_grad()\n",
        "        loss.backward()\n",
        "        optimizer.step()"
      ],
      "execution_count": null,
      "outputs": []
    },
    {
      "cell_type": "code",
      "metadata": {
        "id": "RgNrLqditIzV"
      },
      "source": [
        "# Send batch through model for testing purposes.\n",
        "# Classic evaluator PyTorch syntax but uses the Evaluator\n",
        "# function defined in first real code cell under imports\n",
        "def test(model, feats, labels, test_loader, evaluator,\n",
        "         train_nid, val_nid, test_nid):\n",
        "    model.eval()\n",
        "    device = labels.device\n",
        "    preds = []\n",
        "    for batch in test_loader:\n",
        "        batch_feats = [feat[batch].to(device) for feat in feats]\n",
        "        preds.append(torch.argmax(model(batch_feats), dim=-1))\n",
        "    # Concat mini-batch prediction results along node dimension\n",
        "    preds = torch.cat(preds, dim=0)\n",
        "    train_res = evaluator(preds[train_nid], labels[train_nid])\n",
        "    val_res = evaluator(preds[val_nid], labels[val_nid])\n",
        "    test_res = evaluator(preds[test_nid], labels[test_nid])\n",
        "    return train_res, val_res, test_res"
      ],
      "execution_count": null,
      "outputs": []
    },
    {
      "cell_type": "markdown",
      "source": [
        "The run function calls the train and test functions appropriately for the given number of epochs and evaluates the model performance."
      ],
      "metadata": {
        "id": "ovWbQQAOaiUZ"
      }
    },
    {
      "cell_type": "code",
      "metadata": {
        "id": "CVlDMvlWtNGZ"
      },
      "source": [
        "# Run training and testing from start to finish through this function\n",
        "def run(args, data, device):\n",
        "    feats, labels, in_size, num_classes, \\\n",
        "        train_nid, val_nid, test_nid, evaluator = data\n",
        "    # Dataloader automatically loads batch indices for an epoch.\n",
        "    # Shuffle for train to get batch, do not shuffle for test\n",
        "    # to get accurate test accuracy.\n",
        "    train_loader = torch.utils.data.DataLoader(\n",
        "        train_nid, batch_size=args.batch_size, shuffle=True, drop_last=False)\n",
        "    test_loader = torch.utils.data.DataLoader(\n",
        "        torch.arange(labels.shape[0]), batch_size=args.eval_batch_size,\n",
        "        shuffle=False, drop_last=False)\n",
        "\n",
        "    # Initialize model and optimizer for each run\n",
        "    num_hops = args.R + 1\n",
        "    model = SIGN(in_size, args.num_hidden, num_classes, num_hops,\n",
        "                 args.ff_layer, args.dropout, args.input_dropout)\n",
        "    model = model.to(device)\n",
        "    print(\"# Params:\", get_n_params(model))\n",
        "\n",
        "    loss_fcn = nn.CrossEntropyLoss()\n",
        "    optimizer = torch.optim.Adam(model.parameters(), lr=args.lr,\n",
        "                                 weight_decay=args.weight_decay)\n",
        "\n",
        "    # Start training\n",
        "    best_epoch = 0\n",
        "    best_val = 0\n",
        "    best_test = 0\n",
        "    for epoch in range(1, args.num_epochs + 1):\n",
        "        print(f'Training Epoch {epoch}...')\n",
        "        start = time.time()\n",
        "        # Train the model for a whole epoch.\n",
        "        train(model, feats, labels, loss_fcn, optimizer, train_loader)\n",
        "\n",
        "        # Evaluate accuracy every eval_every epochs.\n",
        "        if epoch % args.eval_every == 0:\n",
        "            with torch.no_grad():\n",
        "                acc = test(model, feats, labels, test_loader, evaluator,\n",
        "                           train_nid, val_nid, test_nid)\n",
        "            end = time.time()\n",
        "            log = \"Epoch {}, Time(s): {:.4f}, \".format(epoch, end - start)\n",
        "            log += \"Acc: Train {:.4f}, Val {:.4f}, Test {:.4f}\".format(*acc)\n",
        "            print(log)\n",
        "            if acc[1] > best_val:\n",
        "                best_epoch = epoch\n",
        "                best_val = acc[1]\n",
        "                best_test = acc[2]\n",
        "\n",
        "    print(\"Best Epoch {}, Val {:.4f}, Test {:.4f}\".format(\n",
        "        best_epoch, best_val, best_test))\n",
        "    return best_val, best_test"
      ],
      "execution_count": null,
      "outputs": []
    },
    {
      "cell_type": "markdown",
      "metadata": {
        "id": "0qQDvWsgyIxM"
      },
      "source": [
        "Below, instead of using an argument parser authored by the original authors which is utilized in .py files, we instead declare an argument class which takes in the desired arugments in the initialize function. This way, the syntax can remain while also integrating into a Python Notebook.\n",
        "\n",
        "**Notes: The default argument parameters in the** *__init__* **function are identical to those of the original author. We change the parameters in the call to arg_parser at the bottom of the cell to make the code workable in a Google Colab GPU computing environment.** \n",
        "\n",
        "Feel free to change these parameters yourself, but beyond the default arguments we recommend:\n",
        "\n",
        "$num\\_epochs = 30$\n",
        "\n",
        "$R = 2$\n",
        "\n",
        "$batch\\_size = 128$\n",
        "\n",
        "$eval\\_batch\\_size = 256$\n",
        "\n",
        "$num\\_runs = 2$"
      ]
    },
    {
      "cell_type": "code",
      "metadata": {
        "id": "pKc66QoLteWI"
      },
      "source": [
        "# --------------------------------------------------------------------------\n",
        "# Authored code by Matthew, Avery, & Guillermo\n",
        "\n",
        "# Substitute argument parser for args class (doesn't change syntax\n",
        "# but allows for better integration into .ipynb file versus an .py file)\n",
        "class arg_parser:\n",
        "\n",
        "  def __init__(self, num_epochs=1000, num_hidden=512, R=5, lr=0.001,\n",
        "               dataset='ogbn-products', dropout=0.5, weight_decay=0,\n",
        "               eval_every=10, batch_size=50000, eval_batch_size=100000,\n",
        "               ff_layer=2, input_dropout=0, num_runs=10):\n",
        "    self.num_epochs = num_epochs\n",
        "    self.num_hidden = num_hidden\n",
        "    self.R = R\n",
        "    self.lr = 0.001\n",
        "    self.dataset = dataset\n",
        "    self.dropout = dropout\n",
        "    self.weight_decay = weight_decay\n",
        "    self.eval_every = eval_every\n",
        "    self.batch_size = batch_size\n",
        "    self.eval_batch_size = eval_batch_size\n",
        "    self.ff_layer = ff_layer\n",
        "    self.input_dropout = input_dropout\n",
        "    self.num_runs = num_runs\n",
        "# --------------------------------------------------------------------------\n",
        "\n",
        "# --------------------------------------------------------------------------\n",
        "\n",
        "# TODO: ADD OR CHANGE ARGUMENTS IN THE ARG_PARSER CLASS AS YOU WISH BY CHANGING\n",
        "# THE ARGUMENTS PASSED INTO THE ARG PARSER CLASS HERE. WE RECOMMEND THE DEFAULT\n",
        "# ARGUMENTS AS WELL AS WHAT IS OUTLINED IN THE TEXT CELL ABOVE.\n",
        "args = arg_parser(num_epochs=30, R=2, batch_size=128, eval_batch_size=256, num_runs=2)\n",
        "# --------------------------------------------------------------------------"
      ],
      "execution_count": null,
      "outputs": []
    },
    {
      "cell_type": "markdown",
      "source": [
        "After runnning all cells above, we are finally ready to run the notebook. First, run this cell to activate Cuda as our device, load the data, and obtain our neighbor aggregated features."
      ],
      "metadata": {
        "id": "jF1vgLI9b8Fw"
      }
    },
    {
      "cell_type": "code",
      "metadata": {
        "id": "MvdBbahVtaO8",
        "colab": {
          "base_uri": "https://localhost:8080/"
        },
        "outputId": "fec87f2e-aea9-4547-f6e9-36f98de10d6e"
      },
      "source": [
        "# ---------------------------------------------------------------\n",
        "# Authored code by Matthew, Avery, & Guillermo\n",
        "\n",
        "# Change to if GPU available.\n",
        "if torch.cuda.is_available():\n",
        "  device = torch.device('cuda')\n",
        "else:\n",
        "  device = torch.device('cpu')\n",
        "print(f'Device: {device}')\n",
        "\n",
        "# ---------------------------------------------------------------\n",
        "\n",
        "# ---------------------------------------------------------------\n",
        "# Authored by original authors in paper above.\n",
        "\n",
        "with torch.no_grad():\n",
        "    data = prepare_data(device, args)\n",
        "# ---------------------------------------------------------------"
      ],
      "execution_count": null,
      "outputs": [
        {
          "output_type": "stream",
          "name": "stdout",
          "text": [
            "Device: cuda\n",
            "Data(edge_index=[2, 123718280], x=[2449029, 100], y=[2449029, 1])\n",
            "# Nodes: 2449029\n",
            "# Edges: 123718280\n",
            "# Train: 196615\n",
            "# Val: 39323\n",
            "# Test: 2213091\n",
            "# Classes: 47\n"
          ]
        }
      ]
    },
    {
      "cell_type": "markdown",
      "source": [
        "Now, run this cell to pass the data into the model, and train the model based on the argument parameters given above. After running this cell, record the final validation and testing accuracy by the model."
      ],
      "metadata": {
        "id": "QR5hfPeycKDp"
      }
    },
    {
      "cell_type": "code",
      "metadata": {
        "id": "T6Bot8W0KCN2",
        "colab": {
          "base_uri": "https://localhost:8080/"
        },
        "outputId": "39ae6db5-5e35-4be9-d6d4-61d1677a9ca6"
      },
      "source": [
        "# This rounds out the original main function.\n",
        "val_accs = []\n",
        "test_accs = []\n",
        "# Num_Runs is how many times we start from scratch.\n",
        "for i in range(args.num_runs):\n",
        "    print(f\"Run {i} start training\")\n",
        "    # Run the model, get the val and test accuracy at each go.\n",
        "    best_val, best_test = run(args, data, device)\n",
        "    val_accs.append(best_val)\n",
        "    test_accs.append(best_test)\n",
        "\n",
        "# Print the average val and test accuracies.\n",
        "print(f\"Average val accuracy: {np.mean(val_accs):.4f}, \"\n",
        "      f\"std: {np.std(val_accs):.4f}\")\n",
        "print(f\"Average test accuracy: {np.mean(test_accs):.4f}, \"\n",
        "      f\"std: {np.std(test_accs):.4f}\")"
      ],
      "execution_count": null,
      "outputs": [
        {
          "output_type": "stream",
          "name": "stdout",
          "text": [
            "Run 0 start training\n",
            "# Params: 1754164\n",
            "Training Epoch 1...\n",
            "Training Epoch 2...\n",
            "Training Epoch 3...\n",
            "Training Epoch 4...\n",
            "Training Epoch 5...\n",
            "Training Epoch 6...\n",
            "Training Epoch 7...\n",
            "Training Epoch 8...\n",
            "Training Epoch 9...\n",
            "Training Epoch 10...\n",
            "Epoch 10, Time(s): 29.1186, Acc: Train 0.9375, Val 0.9168, Test 0.7635\n",
            "Training Epoch 11...\n",
            "Training Epoch 12...\n",
            "Training Epoch 13...\n",
            "Training Epoch 14...\n",
            "Training Epoch 15...\n",
            "Training Epoch 16...\n",
            "Training Epoch 17...\n",
            "Training Epoch 18...\n",
            "Training Epoch 19...\n",
            "Training Epoch 20...\n",
            "Epoch 20, Time(s): 28.9915, Acc: Train 0.9405, Val 0.9167, Test 0.7568\n",
            "Training Epoch 21...\n",
            "Training Epoch 22...\n",
            "Training Epoch 23...\n",
            "Training Epoch 24...\n",
            "Training Epoch 25...\n",
            "Training Epoch 26...\n",
            "Training Epoch 27...\n",
            "Training Epoch 28...\n",
            "Training Epoch 29...\n",
            "Training Epoch 30...\n",
            "Epoch 30, Time(s): 29.5031, Acc: Train 0.9432, Val 0.9189, Test 0.7530\n",
            "Best Epoch 30, Val 0.9189, Test 0.7530\n",
            "Run 1 start training\n",
            "# Params: 1754164\n",
            "Training Epoch 1...\n",
            "Training Epoch 2...\n",
            "Training Epoch 3...\n",
            "Training Epoch 4...\n",
            "Training Epoch 5...\n",
            "Training Epoch 6...\n",
            "Training Epoch 7...\n",
            "Training Epoch 8...\n",
            "Training Epoch 9...\n",
            "Training Epoch 10...\n",
            "Epoch 10, Time(s): 29.0618, Acc: Train 0.9366, Val 0.9152, Test 0.7682\n",
            "Training Epoch 11...\n",
            "Training Epoch 12...\n",
            "Training Epoch 13...\n",
            "Training Epoch 14...\n",
            "Training Epoch 15...\n",
            "Training Epoch 16...\n",
            "Training Epoch 17...\n",
            "Training Epoch 18...\n",
            "Training Epoch 19...\n",
            "Training Epoch 20...\n",
            "Epoch 20, Time(s): 29.3138, Acc: Train 0.9427, Val 0.9192, Test 0.7661\n",
            "Training Epoch 21...\n",
            "Training Epoch 22...\n",
            "Training Epoch 23...\n",
            "Training Epoch 24...\n",
            "Training Epoch 25...\n",
            "Training Epoch 26...\n",
            "Training Epoch 27...\n",
            "Training Epoch 28...\n",
            "Training Epoch 29...\n",
            "Training Epoch 30...\n",
            "Epoch 30, Time(s): 29.2860, Acc: Train 0.9419, Val 0.9151, Test 0.7475\n",
            "Best Epoch 20, Val 0.9192, Test 0.7661\n",
            "Average val accuracy: 0.9191, std: 0.0002\n",
            "Average test accuracy: 0.7595, std: 0.0065\n"
          ]
        }
      ]
    },
    {
      "cell_type": "markdown",
      "source": [
        "Final Validation Accuracy: $91.91\\%$\n",
        "\n",
        "Final Test Accuracy: $75.95\\%$"
      ],
      "metadata": {
        "id": "VqtCjlxzUveL"
      }
    }
  ]
}